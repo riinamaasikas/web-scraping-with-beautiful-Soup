{
 "cells": [
  {
   "cell_type": "markdown",
   "metadata": {},
   "source": [
    "# Chocolate Scraping with Beautiful Soup"
   ]
  },
  {
   "cell_type": "markdown",
   "metadata": {},
   "source": [
    "After eating chocolate bars your whole life, you've decided to go on a quest to find the greatest chocolate bar in the world.\n",
    "\n",
    "You've found a website that has over 1700 reviews of chocolate bars from all around the world. It's linked below the text for the first task.\n",
    "\n",
    "The data is displayed in a table, instead of in a `csv` or `json`. Thankfully, we have the power of BeautifulSoup that will help us transform this webpage into a DataFrame that we can manipulate and analyze.\n",
    "\n",
    "The rating scale is from 1-5, as described in <a href=\"http://flavorsofcacao.com/review_guide.html\">this review guide</a>. A `1` is \"unpleasant\" chocolate, while a `5` is a bar that transcends \"beyond the ordinary limits\".\n",
    "\n",
    "Some questions we thought about when we found this dataset were:\n",
    " - Where are the best cocao beans grown?\n",
    " - Which countries produce the highest-rated bars?\n",
    " - What's the relationship between cocao solids percentage and rating?\n",
    " \n",
    "Can we find a way to answer these questions, or uncover more questions, using BeautifulSoup and Pandas?"
   ]
  },
  {
   "cell_type": "markdown",
   "metadata": {},
   "source": [
    "## Make Some Chocolate Soup"
   ]
  },
  {
   "cell_type": "markdown",
   "metadata": {},
   "source": [
    "1. Explore the webpage displayed in the browser. What elements could be useful to scrape here? Which elements do we _not_ want to scrape?"
   ]
  },
  {
   "cell_type": "markdown",
   "metadata": {},
   "source": [
    "https://content.codecademy.com/courses/beautifulsoup/cacao/index.html"
   ]
  },
  {
   "cell_type": "markdown",
   "metadata": {},
   "source": [
    "List of Tags to Include:\n",
    "\n",
    "tr and td"
   ]
  },
  {
   "cell_type": "markdown",
   "metadata": {},
   "source": [
    "List of Tags to Exclude:\n",
    "\n",
    "img and h1"
   ]
  },
  {
   "cell_type": "code",
   "execution_count": 1,
   "metadata": {},
   "outputs": [],
   "source": [
    "from bs4 import BeautifulSoup\n",
    "import requests\n",
    "import pandas as pd\n",
    "import matplotlib.pyplot as plt\n",
    "import numpy as np"
   ]
  },
  {
   "cell_type": "markdown",
   "metadata": {},
   "source": [
    "2. Let's make a request to this stie to get the raw HTML, which we can later turn into a BeautifulSoup object.\n",
    "\n",
    "   The URL is\n",
    "\n",
    "```\n",
    "https://content.codecademy.com/courses/beautifulsoup/cacao/index.html\n",
    "```\n",
    "   \n",
    "   You can pass this into the `.get()` method of the `requests` module to get the HTML."
   ]
  },
  {
   "cell_type": "code",
   "execution_count": 2,
   "metadata": {},
   "outputs": [],
   "source": [
    "#Make a request to the site and get the HTML\n",
    "webpage = requests.get('https://content.codecademy.com/courses/beautifulsoup/cacao/index.html')"
   ]
  },
  {
   "cell_type": "markdown",
   "metadata": {},
   "source": [
    "3. Create a BeautifulSoup object called `soup` to traverse this HTML.\n",
    "\n",
    "   Use `\"html.parser\"` as the parser, and the content of the response you got from your request as the document."
   ]
  },
  {
   "cell_type": "code",
   "execution_count": 3,
   "metadata": {},
   "outputs": [],
   "source": [
    "#Turn into Beautiful Soup object\n",
    "soup = BeautifulSoup(webpage.content, \"html.parser\")"
   ]
  },
  {
   "cell_type": "markdown",
   "metadata": {},
   "source": [
    "4. If you want, print out the `soup` object to explore the HTML.\n",
    "\n",
    "   So many table rows! You're probably very relieved that we don't have to scrape this information by hand."
   ]
  },
  {
   "cell_type": "code",
   "execution_count": 4,
   "metadata": {},
   "outputs": [
    {
     "name": "stdout",
     "output_type": "stream",
     "text": [
      "            </td>\n",
      "<td class=\"Origin\">Specific Bean Origin\n",
      "               or Bar Name\n",
      "            </td>\n",
      "<td class=\"REF\">REF</td>\n",
      "<td class=\"ReviewDate\">Review\n",
      "               Date\n",
      "            </td>\n",
      "<td class=\"CocoaPercent\">Cocoa\n",
      "               Percent\n",
      "            </td>\n",
      "<td class=\"CompanyLocation\">Company\n",
      "               Location\n",
      "            </td>\n",
      "<td class=\"Rating\">Rating</td>\n",
      "<td class=\"BeanType\">Bean\n",
      "               Type\n",
      "            </td>\n",
      "<td class=\"BroadBeanOrigin\">Broad Bean\n",
      "               Origin\n",
      "            </td>\n",
      "</tr>\n",
      "<tr>\n",
      "<td class=\"Company\">A. Morin</td>\n",
      "<td class=\"Origin\">Agua Grande</td>\n",
      "<td class=\"REF\">1876</td>\n",
      "<td class=\"ReviewDate\">2016</td>\n",
      "<td class=\"CocoaPercent\">63%</td>\n",
      "<td class=\"CompanyLocation\">France</td>\n",
      "<td class=\"Rating\">3.75</td>\n",
      "<td class=\"BeanType\"> </td>\n",
      "<td class=\"BroadBeanOrigin\">Sao Tome</td>\n",
      "</tr>\n",
      "<tr>\n",
      "<td class=\"Company\">A. Morin</td>\n",
      "<td class=\"Origin\">Kpime</td>\n",
      "<td class=\"REF\">1676</td>\n",
      "<td class=\"ReviewDate\">2015</td>\n",
      "<td class=\"CocoaPercent\">70%</td>\n",
      "<td class=\"CompanyLocation\">France</td>\n",
      "<td class=\"Rating\">2.75</td>\n",
      "<td class=\"BeanType\"> </td>\n",
      "<td class=\"BroadBeanOrigin\">Togo</td>\n",
      "</tr>\n",
      "<tr>\n",
      "<td class=\"Company\">A. Morin</td>\n",
      "<td class=\"Origin\">Atsane</td>\n",
      "<td class=\"REF\">1676</td>\n",
      "<td class=\"ReviewDate\">2015</td>\n",
      "<td class=\"CocoaPercent\">70%</td>\n"
     ]
    }
   ],
   "source": [
    "# Print only lines 50-100 of the HTML\n",
    "soup_str = str(soup)\n",
    "lines = soup_str.splitlines()\n",
    "for line in lines[50:100]:\n",
    "    print(line)"
   ]
  },
  {
   "cell_type": "markdown",
   "metadata": {},
   "source": [
    "## How are ratings distributed?"
   ]
  },
  {
   "cell_type": "markdown",
   "metadata": {},
   "source": [
    "5. How many terrible chocolate bars are out there? And how many earned a perfect 5? Let's make a histogram of this data.\n",
    "\n",
    "   The first thing to do is to put all of the ratings into a list.\n",
    "   \n",
    "   Use a command on the `soup` object to get all of the tags that contain the ratings."
   ]
  },
  {
   "cell_type": "code",
   "execution_count": 5,
   "metadata": {},
   "outputs": [],
   "source": [
    "#Get all the tags that contain the ratings\n",
    "ratings_class = soup.find_all(attrs={\"class\":\"Rating\"})"
   ]
  },
  {
   "cell_type": "markdown",
   "metadata": {},
   "source": [
    "6. Create an empty list called `ratings` to store all the ratings in."
   ]
  },
  {
   "cell_type": "code",
   "execution_count": 6,
   "metadata": {},
   "outputs": [],
   "source": [
    "ratings = []"
   ]
  },
  {
   "cell_type": "markdown",
   "metadata": {},
   "source": [
    "7. Loop through the ratings tags and get the text contained in each one. Add it to the ratings list.\n",
    "\n",
    "   As you do this, convert the rating to a float, so that the ratings list will be numerical. This should help with calculations later."
   ]
  },
  {
   "cell_type": "code",
   "execution_count": 7,
   "metadata": {},
   "outputs": [
    {
     "name": "stdout",
     "output_type": "stream",
     "text": [
      "[3.75, 2.75, 3.0, 3.5, 3.5, 2.75, 3.5, 3.5, 3.75, 4.0]\n"
     ]
    }
   ],
   "source": [
    "#Get the text from the rating tags and convert it into a float. Add to the ratings list.\n",
    "for tag in ratings_class[1:]:\n",
    "  # Get the text and remove whitespace\n",
    "  text = tag.get_text()\n",
    "  try:\n",
    "        rating = float(text)       # Convert to float\n",
    "        ratings.append(rating)     # Add to the list\n",
    "  except ValueError:\n",
    "        # In case there's a non-numeric value (like header text)\n",
    "        continue\n",
    "#print first 10 ratings\n",
    "print(ratings[:10])"
   ]
  },
  {
   "cell_type": "markdown",
   "metadata": {},
   "source": [
    "8. Using Matplotlib, create a histogram of the ratings values:\n",
    "\n",
    "```py\n",
    "plt.hist(ratings)\n",
    "```\n",
    "\n",
    "   Remember to show the plot using `plt.show()`!"
   ]
  },
  {
   "cell_type": "code",
   "execution_count": 8,
   "metadata": {},
   "outputs": [
    {
     "data": {
      "image/png": "[encoded data removed]",
      "text/plain": [
       "<Figure size 640x480 with 1 Axes>"
      ]
     },
     "metadata": {},
     "output_type": "display_data"
    }
   ],
   "source": [
    "#Plot histogram\n",
    "plt.hist(ratings)\n",
    "plt.title('Cacao Ratings')\n",
    "plt.xlabel('Rating')\n",
    "plt.ylabel('Nr of Chocolates')\n",
    "plt.show()"
   ]
  },
  {
   "cell_type": "markdown",
   "metadata": {},
   "source": [
    "## Which chocolatier makes the best chocolate?"
   ]
  },
  {
   "cell_type": "markdown",
   "metadata": {},
   "source": [
    "9. We want to now find the 10 most highly rated chocolatiers. One way to do this is to make a DataFrame that has the chocolate companies in one column, and the ratings in another. Then, we can do a `groupby` to find the ones with the highest average rating.\n",
    "\n",
    "   First, let's find all tags on the webpage that contain the company names."
   ]
  },
  {
   "cell_type": "code",
   "execution_count": 9,
   "metadata": {},
   "outputs": [],
   "source": [
    "#Find all tags that contain company names\n",
    "company_name_class = soup.select(\".Company\")"
   ]
  },
  {
   "cell_type": "markdown",
   "metadata": {},
   "source": [
    "10. Just like we did with ratings, we now want to make an empty list to hold company names."
   ]
  },
  {
   "cell_type": "code",
   "execution_count": 10,
   "metadata": {},
   "outputs": [],
   "source": [
    "company_names = []"
   ]
  },
  {
   "cell_type": "markdown",
   "metadata": {},
   "source": [
    "11. Loop through the tags containing the company names, and add the text from each tag to the list you just created."
   ]
  },
  {
   "cell_type": "code",
   "execution_count": 11,
   "metadata": {},
   "outputs": [
    {
     "name": "stdout",
     "output_type": "stream",
     "text": [
      "['A. Morin', 'A. Morin', 'A. Morin', 'A. Morin', 'A. Morin', 'A. Morin', 'A. Morin', 'A. Morin', 'A. Morin', 'A. Morin']\n",
      "Company names: 1795\n",
      "Ratings: 1795\n"
     ]
    }
   ],
   "source": [
    "#Get the text from the Company tags and add to the list.\n",
    "for tag in company_name_class[1:]:\n",
    "  text = tag.get_text()\n",
    "  company_names.append(text)\n",
    "\n",
    "print(company_names[:10])\n",
    "print(f\"Company names: {len(company_names)}\")\n",
    "print(f\"Ratings: {len(ratings)}\")"
   ]
  },
  {
   "cell_type": "markdown",
   "metadata": {},
   "source": [
    "12. Create a DataFrame with a column \"Company\" corresponding to your companies list, and a column \"Ratings\" corresponding to your ratings list."
   ]
  },
  {
   "cell_type": "code",
   "execution_count": 12,
   "metadata": {},
   "outputs": [
    {
     "name": "stdout",
     "output_type": "stream",
     "text": [
      "    Company  Rating\n",
      "0  A. Morin    3.75\n",
      "1  A. Morin    2.75\n",
      "2  A. Morin    3.00\n",
      "3  A. Morin    3.50\n",
      "4  A. Morin    3.50\n"
     ]
    }
   ],
   "source": [
    "#Create a DataFrame with a column \"Company\" and \"Ratings\"\n",
    "dict = {\"Company\": company_names,\n",
    "\"Rating\": ratings}\n",
    "df = pd.DataFrame.from_dict(dict)\n",
    "print(df.head())"
   ]
  },
  {
   "cell_type": "markdown",
   "metadata": {},
   "source": [
    "13. Use `.grouby` to group your DataFrame by Company and take the average of the grouped ratings.\n",
    "\n",
    "    Then, use the `.nlargest` command to get the 10 highest rated chocolate companies. Print them out.\n",
    "    \n",
    "    Look at the hint if you get stuck on this step!"
   ]
  },
  {
   "cell_type": "code",
   "execution_count": 13,
   "metadata": {},
   "outputs": [
    {
     "name": "stdout",
     "output_type": "stream",
     "text": [
      "Company\n",
      "Tobago Estate (Pralus)                  4.000000\n",
      "Heirloom Cacao Preservation (Zokoko)    3.875000\n",
      "Ocelot                                  3.875000\n",
      "Amedei                                  3.846154\n",
      "Matale                                  3.812500\n",
      "Patric                                  3.791667\n",
      "Idilio (Felchlin)                       3.775000\n",
      "Acalli                                  3.750000\n",
      "Chocola'te                              3.750000\n",
      "Christopher Morel (Felchlin)            3.750000\n",
      "Name: Rating, dtype: float64\n"
     ]
    }
   ],
   "source": [
    "#Calculate average rating for each company\n",
    "average_rating = df.groupby(\"Company\").Rating.mean()\n",
    "\n",
    "#Get 10 highest rated chocolate companies\n",
    "top_10 = average_rating.nlargest(10)\n",
    "print(top_10)"
   ]
  },
  {
   "cell_type": "markdown",
   "metadata": {},
   "source": [
    "## Is more cacao better?"
   ]
  },
  {
   "cell_type": "markdown",
   "metadata": {},
   "source": [
    "14. We want to see if the chocolate experts tend to rate chocolate bars with higher levels of cacoa to be better than those with lower levels of cacoa.\n",
    "\n",
    "    It looks like the cocoa percentages are in the table under the Cocoa Percent column (note we are looking at cocoa not cocao!)\n",
    "    \n",
    "    Using the same methods you used in the last couple of tasks, create a list that contains all of the cocoa percentages. Store each percent as a float, after stripping off the `%` character."
   ]
  },
  {
   "cell_type": "code",
   "execution_count": 14,
   "metadata": {},
   "outputs": [
    {
     "name": "stdout",
     "output_type": "stream",
     "text": [
      "[63.0, 70.0, 70.0, 70.0, 70.0, 70.0, 70.0, 70.0, 70.0, 70.0]\n"
     ]
    }
   ],
   "source": [
    "#Get all the tags that contain the Cocoa Percent\n",
    "Cocoa_class = soup.select(\".CocoaPercent\")\n",
    "\n",
    "#Get the text from the Cocoa Percent tags and add to the list.\n",
    "cocoa_percent = []\n",
    "for tag in Cocoa_class[1:]:\n",
    "  text = tag.get_text().strip(\"%\")\n",
    "  try:\n",
    "        percent = float(text)       # Convert to float\n",
    "        cocoa_percent.append(percent)     # Add to the list\n",
    "  except ValueError:\n",
    "        # In case there's a non-numeric value\n",
    "        continue\n",
    "print(cocoa_percent[:10])"
   ]
  },
  {
   "cell_type": "markdown",
   "metadata": {},
   "source": [
    "15. Add the cocoa percentages as a column called `\"CocoaPercentage\"` in the DataFrame that has companies and ratings in it."
   ]
  },
  {
   "cell_type": "code",
   "execution_count": 15,
   "metadata": {},
   "outputs": [
    {
     "name": "stdout",
     "output_type": "stream",
     "text": [
      "    Company  Rating  CocoaPercentage\n",
      "0  A. Morin    3.75             63.0\n",
      "1  A. Morin    2.75             70.0\n",
      "2  A. Morin    3.00             70.0\n",
      "3  A. Morin    3.50             70.0\n",
      "4  A. Morin    3.50             70.0\n"
     ]
    }
   ],
   "source": [
    "df[\"CocoaPercentage\"] = cocoa_percent\n",
    "print(df.head())"
   ]
  },
  {
   "cell_type": "markdown",
   "metadata": {},
   "source": [
    "16. Make a scatterplot of ratings (`your_df.Rating`) vs percentage of cocoa (`your_df.CocoaPercentage`).\n",
    "\n",
    "    You can do this in Matplotlib with these commands:\n",
    "    \n",
    "```py\n",
    "plt.scatter(df.CocoaPercentage, df.Rating)\n",
    "plt.show()\n",
    "```\n",
    "\n",
    "Call `plt.clf()` to clear the figure between showing your histogram and this scatterplot."
   ]
  },
  {
   "cell_type": "code",
   "execution_count": 16,
   "metadata": {},
   "outputs": [
    {
     "data": {
      "text/plain": [
       "<Figure size 640x480 with 0 Axes>"
      ]
     },
     "metadata": {},
     "output_type": "display_data"
    }
   ],
   "source": [
    "plt.clf()"
   ]
  },
  {
   "cell_type": "markdown",
   "metadata": {},
   "source": [
    "17. Is there any correlation here? We can use some numpy commands to draw a line of best-fit over the scatterplot.\n",
    "\n",
    "    Copy this code and paste it after you create the scatterplot, but before you call `.show()`:\n",
    "    \n",
    "```py\n",
    "z = np.polyfit(df.CocoaPercentage, df.Rating, 1)\n",
    "line_function = np.poly1d(z)\n",
    "plt.plot(df.CocoaPercentage, line_function(df.CocoaPercentage), \"r-\")\n",
    "```"
   ]
  },
  {
   "cell_type": "code",
   "execution_count": 17,
   "metadata": {},
   "outputs": [
    {
     "data": {
      "image/png": "[encoded data removed]",
      "text/plain": [
       "<Figure size 640x480 with 1 Axes>"
      ]
     },
     "metadata": {},
     "output_type": "display_data"
    }
   ],
   "source": [
    "#Plot Cocoa % vs Ratings\n",
    "plt.scatter(df.CocoaPercentage, df.Rating)\n",
    "plt.title(\"Cocoa % vs Ratings\")\n",
    "plt.xlabel(\"Cocoa %\")\n",
    "plt.ylabel(\"Rating\")\n",
    "\n",
    "#Draw a line of best fit with NumPy\n",
    "z = np.polyfit(df.CocoaPercentage, df.Rating, 1)\n",
    "line_function = np.poly1d(z)\n",
    "plt.plot(df.CocoaPercentage, line_function(df.CocoaPercentage), \"r--\")\n",
    "plt.show()"
   ]
  },
  {
   "cell_type": "markdown",
   "metadata": {},
   "source": [
    "## Explore!"
   ]
  },
  {
   "cell_type": "markdown",
   "metadata": {},
   "source": [
    "18. We have explored a couple of the questions about chocolate that inspired us when we looked at this chocolate table.\n",
    "\n",
    "    What other kinds of questions can you answer here? Try to use a combination of BeautifulSoup and Pandas to explore some more.\n",
    "    \n",
    "    For inspiration: Where are the best cocoa beans grown? Which countries produce the highest-rated bars?"
   ]
  },
  {
   "cell_type": "code",
   "execution_count": 18,
   "metadata": {},
   "outputs": [
    {
     "name": "stdout",
     "output_type": "stream",
     "text": [
      "Bean Origin\n",
      "Peru, Ecuador                   99.000000\n",
      "Guat., D.R., Peru, Mad., PNG    88.000000\n",
      "Samoa                           85.000000\n",
      "Venezuela/ Ghana                85.000000\n",
      "Sao Tome & Principe             79.357143\n",
      "Central and S. America          78.000000\n",
      "Principe                        77.000000\n",
      "Carribean                       76.250000\n",
      "El Salvador                     75.000000\n",
      "Gabon                           75.000000\n",
      "Name: CocoaPercentage, dtype: float64\n"
     ]
    }
   ],
   "source": [
    "#extract Cocoa bean Origins data\n",
    "origins = []\n",
    "origin_tags = soup.select(\".BroadBeanOrigin\")\n",
    "\n",
    "for td in origin_tags[1:]:\n",
    "    country = td.get_text()\n",
    "    origins.append(country)\n",
    "\n",
    "#Create the Dataframe comparing with Cocoa percentages\n",
    "beans = {\"Bean Origin\": origins, \"CocoaPercentage\": cocoa_percent}\n",
    "beans_df = pd.DataFrame.from_dict(beans)\n",
    "\n",
    "#Calculate average percentage by Origin\n",
    "mean_percent = beans_df.groupby(\"Bean Origin\").CocoaPercentage.mean()\n",
    "ten_best = mean_percent.nlargest(10)\n",
    "print(ten_best)"
   ]
  }
 ],
 "metadata": {
  "kernelspec": {
   "display_name": "Python 3 (ipykernel)",
   "language": "python",
   "name": "python3"
  },
  "language_info": {
   "codemirror_mode": {
    "name": "ipython",
    "version": 3
   },
   "file_extension": ".py",
   "mimetype": "text/x-python",
   "name": "python",
   "nbconvert_exporter": "python",
   "pygments_lexer": "ipython3",
   "version": "3.12.8"
  }
 },
 "nbformat": 4,
 "nbformat_minor": 4
}
